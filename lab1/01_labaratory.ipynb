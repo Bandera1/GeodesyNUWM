{
 "cells": [
  {
   "cell_type": "code",
   "execution_count": 6,
   "metadata": {},
   "outputs": [
    {
     "ename": "ModuleNotFoundError",
     "evalue": "No module named 'numpy'",
     "output_type": "error",
     "traceback": [
      "\u001b[1;31m---------------------------------------------------------------------------\u001b[0m",
      "\u001b[1;31mModuleNotFoundError\u001b[0m                       Traceback (most recent call last)",
      "Cell \u001b[1;32mIn[6], line 1\u001b[0m\n\u001b[1;32m----> 1\u001b[0m \u001b[39mimport\u001b[39;00m \u001b[39mnumpy\u001b[39;00m \u001b[39mas\u001b[39;00m \u001b[39mnp\u001b[39;00m\n\u001b[0;32m      2\u001b[0m \u001b[39mimport\u001b[39;00m \u001b[39mrasterio\u001b[39;00m\n\u001b[0;32m      3\u001b[0m dataset \u001b[39m=\u001b[39m rasterio\u001b[39m.\u001b[39mopen(\u001b[39m'\u001b[39m\u001b[39msoil_moisture.tif\u001b[39m\u001b[39m'\u001b[39m)\n",
      "\u001b[1;31mModuleNotFoundError\u001b[0m: No module named 'numpy'"
     ]
    }
   ],
   "source": [
    "import numpy as np\n",
    "import rasterio\n",
    "dataset = rasterio.open('soil_moisture.tif')\n",
    "print('bounds count =', dataset.count)\n",
    "print('CRS =', dataset.crs)\n",
    "print(dataset.bounds)\n",
    "print(dataset.width)\n",
    "print(dataset.height)\n",
    "print(dataset.transform)\n",
    "array = dataset.read(1)\n",
    "print(\n",
    "    f'The number of points that contain the correct humidity value: {array[array != 65535].size}')\n",
    "print(\n",
    "    f'Number of points with calculation errors: {array[array == 65535].size}')\n",
    "dataset.close"
   ]
  }
 ],
 "metadata": {
  "kernelspec": {
   "display_name": "Python 3",
   "language": "python",
   "name": "python3"
  },
  "language_info": {
   "codemirror_mode": {
    "name": "ipython",
    "version": 3
   },
   "file_extension": ".py",
   "mimetype": "text/x-python",
   "name": "python",
   "nbconvert_exporter": "python",
   "pygments_lexer": "ipython3",
   "version": "3.11.2"
  },
  "orig_nbformat": 4
 },
 "nbformat": 4,
 "nbformat_minor": 2
}
