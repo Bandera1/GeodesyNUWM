{
 "cells": [
  {
   "cell_type": "code",
   "execution_count": 19,
   "metadata": {},
   "outputs": [
    {
     "name": "stdout",
     "output_type": "stream",
     "text": [
      "bounds count = 1\n",
      "CRS = EPSG:4326\n",
      "BoundingBox(left=29.566633136000007, bottom=49.434589403000004, right=31.185382877000006, top=50.486672568)\n",
      "777\n",
      "505\n",
      "| 0.00, 0.00, 29.57|\n",
      "| 0.00,-0.00, 50.49|\n",
      "| 0.00, 0.00, 1.00|\n"
     ]
    }
   ],
   "source": [
    "import numpy as np\n",
    "import rasterio\n",
    "dataset = rasterio.open('../soil_moisture.tif')\n",
    "print('bounds count =', dataset.count)\n",
    "print('CRS =', dataset.crs)\n",
    "print(dataset.bounds)\n",
    "print(dataset.width)\n",
    "print(dataset.height)\n",
    "print(dataset.transform)"
   ]
  },
  {
   "cell_type": "code",
   "execution_count": 18,
   "metadata": {},
   "outputs": [
    {
     "name": "stdout",
     "output_type": "stream",
     "text": [
      "The number of points that contain the correct humidity value: 169180\n",
      "Number of points with calculation errors: 223205\n"
     ]
    },
    {
     "data": {
      "text/plain": [
       "<function DatasetReader.close>"
      ]
     },
     "execution_count": 18,
     "metadata": {},
     "output_type": "execute_result"
    }
   ],
   "source": [
    "array = dataset.read(1)\n",
    "print(\n",
    "    f'The number of points that contain the correct humidity value: {array[array != 65535].size}')\n",
    "print(\n",
    "    f'Number of points with calculation errors: {array[array == 65535].size}')\n",
    "dataset.close\n"
   ]
  }
 ],
 "metadata": {
  "kernelspec": {
   "display_name": "Python 3",
   "language": "python",
   "name": "python3"
  },
  "language_info": {
   "codemirror_mode": {
    "name": "ipython",
    "version": 3
   },
   "file_extension": ".py",
   "mimetype": "text/x-python",
   "name": "python",
   "nbconvert_exporter": "python",
   "pygments_lexer": "ipython3",
   "version": "3.11.2"
  },
  "orig_nbformat": 4
 },
 "nbformat": 4,
 "nbformat_minor": 2
}
