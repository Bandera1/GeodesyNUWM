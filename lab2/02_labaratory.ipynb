{
 "cells": [
  {
   "attachments": {},
   "cell_type": "markdown",
   "metadata": {},
   "source": [
    "\"attachments\": {},\n",
    "\"cell_type\": \"markdown\",\n",
    "\"metadata\": {},\n",
    "\"source\": [\n",
    "\"#Зроблено під повним керіництвом \\n\",\n",
    "\"#Рожанчука Богдана\\n\",\n",
    "\"#https://github.com/BogdanJeN/Geo/blob/main/Lab_02/lab_02.ipynb\"\n",
    "]"
   ]
  },
  {
   "cell_type": "code",
   "execution_count": null,
   "metadata": {},
   "outputs": [],
   "source": []
  }
 ],
 "metadata": {
  "language_info": {
   "name": "python"
  },
  "orig_nbformat": 4
 },
 "nbformat": 4,
 "nbformat_minor": 2
}
