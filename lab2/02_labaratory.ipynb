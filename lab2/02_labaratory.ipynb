{
 "cells": [
  {
   "cell_type": "code",
   "execution_count": null,
   "metadata": {},
   "outputs": [],
   "source": [
    "#parts of code copy from https://github.com/BogdanJeN/Geo/blob/main/Lab_02/lab_02.ipynb\n",
    "\n",
    "import numpy as np\n",
    "import rasterio as rastr\n",
    "from rasterio.plot import show\n",
    "import numpy as np"
   ]
  },
  {
   "cell_type": "code",
   "execution_count": null,
   "metadata": {},
   "outputs": [],
   "source": [
    "with rasterio.open(\"../soil_moisture.tif\") as src:\n",
    "    # get humidity array from src\n",
    "    humidity_array = src.read(1)\n",
    "\n",
    "    # get average humidity value\n",
    "    mean_humidity = np.mean(humidity_array)\n",
    "\n",
    "print(\"Average humidity value: \", round(mean_humidity,3))\n",
    "\n",
    "with rasterio.open(\"..soil_moisture.tif\") as src:\n",
    "    array = src.read(1)\n",
    "    mask = (array == -9999)\n",
    "    array[mask] = 0\n",
    "\n",
    "    # copy metadata from the source raster\n",
    "    profile = src.profile\n",
    "    dtype = np.dtype('uint16')  # set datatype to uint16\n",
    "    profile.update(dtype=dtype, nodata=0)  # set nodata value to 0\n",
    "\n",
    "    # write new raster to disk\n",
    "    with rasterio.open('output_raster.tif', 'w', **profile) as dst:\n",
    "        dst.write(array.astype(dtype), 1)"
   ]
  },
  {
   "cell_type": "code",
   "execution_count": null,
   "metadata": {},
   "outputs": [],
   "source": [
    "import rasterio\n",
    "from rasterio.plot import show\n",
    "\n",
    "# Load the new image file\n",
    "with rasterio.open(\"../soil_moisture.tif\") as src:\n",
    "    new_image = src.read(1)\n",
    "\n",
    "# Display the image\n",
    "show(new_image, cmap='terrain')"
   ]
  }
 ],
 "metadata": {
  "language_info": {
   "name": "python"
  },
  "orig_nbformat": 4
 },
 "nbformat": 4,
 "nbformat_minor": 2
}
