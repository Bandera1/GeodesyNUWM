{
 "cells": [
  {
   "cell_type": "code",
   "execution_count": 24,
   "metadata": {},
   "outputs": [],
   "source": [
    "#imports\n",
    "\n",
    "import geopandas as gpd\n",
    "import shapely\n",
    "import seaborn"
   ]
  },
  {
   "cell_type": "code",
   "execution_count": 25,
   "metadata": {},
   "outputs": [
    {
     "name": "stdout",
     "output_type": "stream",
     "text": [
      "CRS:  EPSG:4326\n",
      "Records numbers:  1000\n"
     ]
    }
   ],
   "source": [
    "import geopandas as gpd\n",
    "\n",
    "#read JSON file\n",
    "jsonData = gpd.read_file(\"./example_dataset.geojson\")\n",
    "\n",
    "#print info\n",
    "print(\"CRS: \", jsonData.crs)\n",
    "print(\"Records numbers: \", jsonData.shape[0])"
   ]
  },
  {
   "cell_type": "code",
   "execution_count": 31,
   "metadata": {},
   "outputs": [],
   "source": [
    "# read dataset into a pandas dataframe\n",
    "jsonData = gpd.read_file(\"./example_dataset.geojson\")\n",
    "\n",
    "# display first 10 rows\n",
    "print(data.head(10))"
   ]
  },
  {
   "cell_type": "code",
   "execution_count": 36,
   "metadata": {},
   "outputs": [
    {
     "name": "stdout",
     "output_type": "stream",
     "text": [
      "number of cultures:  3\n",
      "crop_name\n",
      "maiz    785\n",
      "soy     209\n",
      "sun       6\n",
      "Name: count, dtype: int64\n"
     ]
    }
   ],
   "source": [
    "# read json\n",
    "jsonData = gpd.read_file(\"./example_dataset.geojson\")\n",
    "\n",
    "# define the number of cultures and the number of records with each culture\n",
    "culture_counts = data['crop_name'].value_counts()\n",
    "\n",
    "# result\n",
    "print(\"number of cultures: \", len(culture_counts))\n",
    "print(culture_counts)"
   ]
  },
  {
   "cell_type": "code",
   "execution_count": 40,
   "metadata": {},
   "outputs": [
    {
     "name": "stdout",
     "output_type": "stream",
     "text": [
      "Maximum actual yield: 14500.00 (field MS_VN_03_205, crop maiz)\n",
      "Minimum actual yield: 900.00 (field MS_VN_02_502, crop soy)\n"
     ]
    }
   ],
   "source": [
    "# parts of code was copy from https://github.com/b1rket/GeoLabNUWM/blob/main/Lab_03/lab_03.ipynb\n",
    "\n",
    "# Determine maximum and minimum actual yield\n",
    "max_yield = jsonData['actual_yield'].max()\n",
    "min_yield = jsonData['actual_yield'].min()\n",
    "\n",
    "# Find fields and crops for maximum and minimum yields\n",
    "max_yield_row = jsonData[jsonData['actual_yield'] == max_yield]\n",
    "min_yield_row = jsonData[jsonData['actual_yield'] == min_yield]\n",
    "\n",
    "# Output results\n",
    "print(\n",
    "    f\"Maximum actual yield: {max_yield:.2f} (field {max_yield_row['field_id'].values[0]}, crop {max_yield_row['crop_name'].values[0]})\")\n",
    "print(\n",
    "    f\"Minimum actual yield: {min_yield:.2f} (field {min_yield_row['field_id'].values[0]}, crop {min_yield_row['crop_name'].values[0]})\")\n"
   ]
  }
 ],
 "metadata": {
  "kernelspec": {
   "display_name": "Python 3",
   "language": "python",
   "name": "python3"
  },
  "language_info": {
   "codemirror_mode": {
    "name": "ipython",
    "version": 3
   },
   "file_extension": ".py",
   "mimetype": "text/x-python",
   "name": "python",
   "nbconvert_exporter": "python",
   "pygments_lexer": "ipython3",
   "version": "3.11.3"
  },
  "orig_nbformat": 4
 },
 "nbformat": 4,
 "nbformat_minor": 2
}
