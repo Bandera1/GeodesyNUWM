{
 "cells": [
  {
   "cell_type": "code",
   "execution_count": 19,
   "metadata": {},
   "outputs": [],
   "source": [
    "# parts of code was taken from https://github.com/BogdanJeN/Geo/blob/main/Lab_06/lab_06.ipynb\n",
    "\n",
    "import pandas as pd\n",
    "import numpy as np\n",
    "import rasterio\n",
    "import geopandas as gpd\n",
    "from shapely.geometry import Point, mapping\n",
    "import json"
   ]
  },
  {
   "cell_type": "code",
   "execution_count": 20,
   "metadata": {},
   "outputs": [],
   "source": [
    "# Load soil data\n",
    "clay_path = '../soil_data/clay.tif'\n",
    "sand_path = '../soil_data/sand.tif'\n",
    "density_path = '../soil_data/density.tif'\n",
    "\n",
    "clay_raster = rasterio.open(clay_path)\n",
    "sand_raster = rasterio.open(sand_path)\n",
    "density_raster = rasterio.open(density_path)"
   ]
  },
  {
   "cell_type": "code",
   "execution_count": 21,
   "metadata": {},
   "outputs": [],
   "source": [
    "# Load field centroids\n",
    "fields_path = '../soil_data/field_polygons.geojson'\n",
    "fields = gpd.read_file(fields_path)\n",
    "\n",
    "# Load moisture data\n",
    "moisture_data = rasterio.open('../jpeg_soil_moisture.jpg')\n",
    "\n",
    "# Create a list to store the field information\n",
    "field_list = []"
   ]
  },
  {
   "cell_type": "code",
   "execution_count": 22,
   "metadata": {},
   "outputs": [],
   "source": [
    "for index, row in fields.iterrows():\n",
    "    # Get the field name and centroid coordinates\n",
    "    field_id = row['id']\n",
    "    field_name = row['Name']\n",
    "    centroid = row['geometry'].centroid\n",
    "    lat, lon = centroid.y, centroid.x\n",
    "\n",
    "    # Get the pixel coordinates of the centroid\n",
    "    row, col = clay_raster.index(lon, lat)\n",
    "\n",
    "    # Extract soil data for the centroid\n",
    "    clay = clay_raster.read(1)[row, col]\n",
    "    sand = sand_raster.read(1)[row, col]\n",
    "    density = density_raster.read(1)[row, col]\n",
    "\n",
    "    # Get the pixel coordinates of the centroid for the moisture data\n",
    "    row, col = sand_raster.index(lon, lat)\n",
    "\n",
    "    # Extract moisture data\n",
    "    moisture = moisture_data.read(1)[row, col]\n",
    "\n",
    "    # Create a dictionary with the field information\n",
    "    field_dict = {\n",
    "        'type': 'Feature',\n",
    "        'properties': {\n",
    "            'id': field_id,\n",
    "            'name': field_name,\n",
    "            'soil': {\n",
    "                'clay': float(clay),\n",
    "                'sand': float(sand),\n",
    "                'density': int(density)\n",
    "            },\n",
    "            'soil_moisture': int(moisture),\n",
    "            'coordinates': {\n",
    "                'lat': float(lat),\n",
    "                'lng': float(lon)\n",
    "            }\n",
    "        },\n",
    "        'geometry': mapping(centroid)\n",
    "    }\n",
    "\n",
    "    # Add the field dictionary to the list\n",
    "    field_list.append(field_dict)\n",
    "\n",
    "# Convert the field list to a GeoJSON FeatureCollection\n",
    "feature_collection = {\n",
    "    'type': 'FeatureCollection',\n",
    "    'features': field_list\n",
    "}\n",
    "\n",
    "# Write the GeoJSON to a file\n",
    "with open('field_data.geojson', 'w') as f:\n",
    "    json.dump(feature_collection, f, indent=2)\n"
   ]
  }
 ],
 "metadata": {
  "kernelspec": {
   "display_name": "Python 3",
   "language": "python",
   "name": "python3"
  },
  "language_info": {
   "codemirror_mode": {
    "name": "ipython",
    "version": 3
   },
   "file_extension": ".py",
   "mimetype": "text/x-python",
   "name": "python",
   "nbconvert_exporter": "python",
   "pygments_lexer": "ipython3",
   "version": "3.11.3"
  },
  "orig_nbformat": 4
 },
 "nbformat": 4,
 "nbformat_minor": 2
}
